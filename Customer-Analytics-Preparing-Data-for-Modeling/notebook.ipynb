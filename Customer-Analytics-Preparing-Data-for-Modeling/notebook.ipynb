{
 "cells": [
  {
   "cell_type": "markdown",
   "id": "a09e6d54-bf3f-4632-b299-bd49d5c80d5f",
   "metadata": {},
   "source": [
    "![Two data scientists working on a dashboard.](hr-image-small.png)\n",
    "\n",
    "A common problem when creating models to generate business value from data is that the datasets can be so large that it can take days for the model to generate predictions. Ensuring that your dataset is stored as efficiently as possible is crucial for allowing these models to run on a more reasonable timescale without having to reduce the size of the dataset.\n",
    "\n",
    "You've been hired by a major online data science training provider called *Training Data Ltd.* to clean up one of their largest customer datasets. This dataset will eventually be used to predict whether their students are looking for a new job or not, information that they will then use to direct them to prospective recruiters.\n",
    "\n",
    "You've been given access to `customer_train.csv`, which is a subset of their entire customer dataset, so you can create a proof-of-concept of a much more efficient storage solution. The dataset contains anonymized student information, and whether they were looking for a new job or not during training:\n",
    "\n",
    "| Column       | Description                                  |\n",
    "|------------- |--------------------------------------------- |\n",
    "| `student_id`   | A unique ID for each student.                 |\n",
    "| `city`  | A code for the city the student lives in.  |\n",
    "| `city_development_index` | A scaled development index for the city.       |\n",
    "| `gender` | The student's gender.       |\n",
    "| `relevant_experience` | An indicator of the student's work relevant experience.       |\n",
    "| `enrolled_university` | The type of university course enrolled in (if any).       |\n",
    "| `education_level` | The student's education level.       |\n",
    "| `major_discipline` | The educational discipline of the student.       |\n",
    "| `experience` | The student's total work experience (in years).       |\n",
    "| `company_size` | The number of employees at the student's current employer.       |\n",
    "| `last_new_job` | The number of years between the student's current and previous jobs.       |\n",
    "| `training_hours` | The number of hours of training completed.       |\n",
    "| `job_change` | An indicator of whether the student is looking for a new job (`1`) or not (`0`).       |"
   ]
  },
  {
   "cell_type": "code",
   "execution_count": 21,
   "id": "7dacda55-041c-4985-87ee-af451dcd6d8c",
   "metadata": {
    "executionCancelledAt": null,
    "executionTime": 9,
    "lastExecutedAt": 1706825583926,
    "lastScheduledRunId": null,
    "lastSuccessfullyExecutedCode": "# Start your code here!\nimport pandas as pd"
   },
   "outputs": [],
   "source": [
    "# Start your code here!\n",
    "import pandas as pd"
   ]
  },
  {
   "cell_type": "markdown",
   "id": "0525acff-876e-4cf2-8bd2-f83951867dd7",
   "metadata": {},
   "source": [
    "## Exploratory data analysis"
   ]
  },
  {
   "cell_type": "code",
   "execution_count": 22,
   "id": "2d9dc32d-5e6b-455d-aacd-424277c49050",
   "metadata": {
    "executionCancelledAt": null,
    "executionTime": 59,
    "lastExecutedAt": 1706825703009,
    "lastScheduledRunId": null,
    "lastSuccessfullyExecutedCode": "ds_jobs = pd.read_csv('customer_train.csv')\nds_jobs.info()",
    "outputsMetadata": {
     "0": {
      "height": 437,
      "type": "stream"
     }
    }
   },
   "outputs": [
    {
     "name": "stdout",
     "output_type": "stream",
     "text": [
      "<class 'pandas.core.frame.DataFrame'>\n",
      "RangeIndex: 19158 entries, 0 to 19157\n",
      "Data columns (total 14 columns):\n",
      " #   Column                  Non-Null Count  Dtype  \n",
      "---  ------                  --------------  -----  \n",
      " 0   student_id              19158 non-null  int64  \n",
      " 1   city                    19158 non-null  object \n",
      " 2   city_development_index  19158 non-null  float64\n",
      " 3   gender                  14650 non-null  object \n",
      " 4   relevant_experience     19158 non-null  object \n",
      " 5   enrolled_university     18772 non-null  object \n",
      " 6   education_level         18698 non-null  object \n",
      " 7   major_discipline        16345 non-null  object \n",
      " 8   experience              19093 non-null  object \n",
      " 9   company_size            13220 non-null  object \n",
      " 10  company_type            13018 non-null  object \n",
      " 11  last_new_job            18735 non-null  object \n",
      " 12  training_hours          19158 non-null  int64  \n",
      " 13  job_change              19158 non-null  int64  \n",
      "dtypes: float64(1), int64(3), object(10)\n",
      "memory usage: 2.0+ MB\n"
     ]
    }
   ],
   "source": [
    "ds_jobs = pd.read_csv('customer_train.csv')\n",
    "ds_jobs.info()"
   ]
  },
  {
   "cell_type": "code",
   "execution_count": 23,
   "id": "d1303726-66fa-4744-b0d6-dfbd976259a1",
   "metadata": {
    "executionCancelledAt": null,
    "executionTime": 9,
    "lastExecutedAt": 1706825704079,
    "lastScheduledRunId": null,
    "lastSuccessfullyExecutedCode": "ds_jobs_clean = ds_jobs.copy()"
   },
   "outputs": [],
   "source": [
    "ds_jobs_clean = ds_jobs.copy()"
   ]
  },
  {
   "cell_type": "code",
   "execution_count": 24,
   "id": "02932dc9",
   "metadata": {},
   "outputs": [
    {
     "data": {
      "text/plain": [
       "Index                        128\n",
       "student_id                153264\n",
       "city                      153264\n",
       "city_development_index    153264\n",
       "gender                    153264\n",
       "relevant_experience       153264\n",
       "enrolled_university       153264\n",
       "education_level           153264\n",
       "major_discipline          153264\n",
       "experience                153264\n",
       "company_size              153264\n",
       "company_type              153264\n",
       "last_new_job              153264\n",
       "training_hours            153264\n",
       "job_change                153264\n",
       "dtype: int64"
      ]
     },
     "execution_count": 24,
     "metadata": {},
     "output_type": "execute_result"
    }
   ],
   "source": [
    "ds_jobs_clean.memory_usage()"
   ]
  },
  {
   "cell_type": "markdown",
   "id": "7ce98317",
   "metadata": {},
   "source": [
    "## Converting integers, floats, and unordered categories, Converting ordered categories , And reordering columns"
   ]
  },
  {
   "cell_type": "code",
   "execution_count": 25,
   "id": "9abc8163",
   "metadata": {},
   "outputs": [],
   "source": [
    "# Create a dictionary of columns containing ordered categorical data\n",
    "ordered_cats = {\n",
    "    'relevant_experience': ['No relevant experience', 'Has relevant experience'],\n",
    "    'enrolled_university': ['no_enrollment', 'Part time course', 'Full time course'],\n",
    "    'education_level': ['Primary School', 'High School', 'Graduate', 'Masters', 'Phd'],\n",
    "    'experience': ['<1'] + list(map(str, range(1, 21))) + ['>20'],\n",
    "    'company_size': ['<10', '10-49', '50-99', '100-499', '500-999', '1000-4999', '5000-9999', '10000+'],\n",
    "    'last_new_job': ['never', '1', '2', '3', '4', '>4']\n",
    "}\n"
   ]
  },
  {
   "cell_type": "code",
   "execution_count": 26,
   "id": "abbc4db7-3033-4d2c-afb6-66af97ddf855",
   "metadata": {
    "executionCancelledAt": null,
    "executionTime": 12,
    "lastExecutedAt": 1706825863829,
    "lastScheduledRunId": null,
    "lastSuccessfullyExecutedCode": "ds_jobs_clean['student_id'].astype('int32')\nds_jobs_clean['student_id'].dtype"
   },
   "outputs": [],
   "source": [
    "for column in ds_jobs_clean:\n",
    "    if ds_jobs_clean[column].dtype == 'int':\n",
    "        ds_jobs_clean[column] = ds_jobs_clean[column].astype('int32')\n",
    "    elif ds_jobs_clean[column].dtype == 'float':\n",
    "        ds_jobs_clean[column] = ds_jobs_clean[column].astype('float16') \n",
    "    elif column in ordered_cats.keys():\n",
    "        category = pd.CategoricalDtype(ordered_cats[column], ordered=True)\n",
    "        ds_jobs_clean[column] = ds_jobs_clean[column].astype(category)\n",
    "    else:\n",
    "        ds_jobs_clean[column] = ds_jobs_clean[column].astype('category')"
   ]
  },
  {
   "cell_type": "code",
   "execution_count": 27,
   "id": "1d6a4d4f",
   "metadata": {},
   "outputs": [
    {
     "data": {
      "text/plain": [
       "Index                        128\n",
       "student_id                153264\n",
       "city                      153264\n",
       "city_development_index    153264\n",
       "gender                    153264\n",
       "relevant_experience       153264\n",
       "enrolled_university       153264\n",
       "education_level           153264\n",
       "major_discipline          153264\n",
       "experience                153264\n",
       "company_size              153264\n",
       "company_type              153264\n",
       "last_new_job              153264\n",
       "training_hours            153264\n",
       "job_change                153264\n",
       "dtype: int64"
      ]
     },
     "execution_count": 27,
     "metadata": {},
     "output_type": "execute_result"
    }
   ],
   "source": [
    "ds_jobs.memory_usage()"
   ]
  },
  {
   "cell_type": "markdown",
   "id": "111c37e1",
   "metadata": {},
   "source": [
    "## Filtering on ordered categorical columns"
   ]
  },
  {
   "cell_type": "code",
   "execution_count": 28,
   "id": "9641576e",
   "metadata": {},
   "outputs": [],
   "source": [
    "ds_jobs_clean = ds_jobs_clean[(ds_jobs_clean['experience'] >= '10') & (ds_jobs_clean['company_size'] >= '1000-4999')]"
   ]
  }
 ],
 "metadata": {
  "editor": "DataCamp Workspace",
  "kernelspec": {
   "display_name": "Python 3 (ipykernel)",
   "language": "python",
   "name": "python3"
  },
  "language_info": {
   "codemirror_mode": {
    "name": "ipython",
    "version": 3
   },
   "file_extension": ".py",
   "mimetype": "text/x-python",
   "name": "python",
   "nbconvert_exporter": "python",
   "pygments_lexer": "ipython3",
   "version": "3.10.9"
  }
 },
 "nbformat": 4,
 "nbformat_minor": 5
}
